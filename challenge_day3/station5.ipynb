{
 "cells": [
  {
   "cell_type": "code",
   "execution_count": 2,
   "metadata": {},
   "outputs": [
    {
     "data": {
      "text/plain": [
       "8"
      ]
     },
     "execution_count": 2,
     "metadata": {},
     "output_type": "execute_result"
    }
   ],
   "source": [
    "import pandas as pd\n",
    "import numpy as np\n",
    "\n",
    "team_1 = [\"Damaris\", \"Mika\", \"Isis\", \"Rosa\", \"Maja\", \"Maria\"]\n",
    "team_2 = [\"Carine\", \"Maria\", \"Célia\", \"Sabrina\", \"Emily\", \"Gur\"]\n",
    "team_3 = [\"Dave\", \"Dmitry\", \"Elisa\", \"Jesper\", \"Martyna\", \"Sari\"]\n",
    "team_4 = [\"Gabriella\", \"Kelt\", \"Quanpu\", \"Ruben\", \"Sebastian\", \"Sofia\"]\n",
    "team_5 = [\"Ameer\", \"Gonzalo\", \"Kian\", \"Sahir\", \"Teun\", \"Tom\"]\n",
    "team_6 = [\"Angélica\", \"Angeline\", \"Caleb\", \"Matas\", \"Paula\", \"Raven\"]\n",
    "team_7 = [\"Emma\", \"Eryk\", \"Maja\", \"Martyna\", \"Máté\", \"Vincent\"]\n",
    "team_8 = [\"Alyssa\", \"Beatris\", \"Caio\", \"Hielke\", \"Sally\", \"Sanne\"]\n",
    "team_9 = [\"Atlas\", \"Diana\", \"Eliana\", \"Felix\", \"Yash\"]\n",
    "team_10 = [\"Akanksha\", \"Al-fatihi\", \"Andrey\", \"Charlie\", \"Hugo\", \"Max\"]\n",
    "team_11 = [\"Alicja\", \"Cristian\", \"Ella\", \"Ioanna\", \"misha\", \"Vanessa\"]\n",
    "team_12 = [\"Alexia\", \"Jelle\", \"Karolina\", \"Luca\", \"Yuyue\"]\n",
    "\n",
    "data = {\"name\" : [i for i in [team_1, team_2, team_3, team_4, team_5, team_6, team_7, team_8, team_9, team_10, team_11, team_12]],\n",
    "        \"group\" : [\"1\", \"2\", \"3\", \"4\", \"5\", \"6\", \"7\", \"8\", \"9\", \"10\", \"11\", \"12\"]}\n",
    "df = pd.DataFrame(data)\n",
    "\n",
    "df = df.explode(\"name\")\n",
    "\n",
    "def solution_station_5(name):\n",
    "    result = int(df[df[\"name\"] == name].iloc[0, 1])\n",
    "    return result\n",
    "\n",
    "solution_station_5(\"Hielke\")"
   ]
  }
 ],
 "metadata": {
  "kernelspec": {
   "display_name": "base",
   "language": "python",
   "name": "python3"
  },
  "language_info": {
   "codemirror_mode": {
    "name": "ipython",
    "version": 3
   },
   "file_extension": ".py",
   "mimetype": "text/x-python",
   "name": "python",
   "nbconvert_exporter": "python",
   "pygments_lexer": "ipython3",
   "version": "3.9.13"
  },
  "orig_nbformat": 4
 },
 "nbformat": 4,
 "nbformat_minor": 2
}
