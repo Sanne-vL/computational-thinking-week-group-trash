{
 "cells": [
  {
   "cell_type": "markdown",
   "metadata": {},
   "source": [
    "# Observation Challenge\n",
    "\n",
    "In this challenge, you have to create an algorithm based on several algorithm parts.\n",
    "\n",
    "## Stations\n",
    "Across the JK building, we have placed several stations. At each station, you can find sample inputs and their expected outputs for one of the algorithm parts.\n",
    "You must decipher the algorithm behind each station yourself.\n",
    "The locations of all the stations are listed on the door of JK2.05.\n",
    "\n",
    "# Your task\n",
    "- Create files in this directory named station1.py, station2.py, etc.\n",
    "- Each member of the team must commit (including any changes) at least one of these files.\n",
    "- Each of these files contains a function named solution_station_X(), where X is the station number, same as the file name\n",
    "- Fill out the cell below and generate the correct overall output\n",
    "- You are allowed to use all built-in Python modules, as well as numpy and pandas in your solutions."
   ]
  },
  {
   "cell_type": "markdown",
   "metadata": {},
   "source": []
  },
  {
   "cell_type": "code",
<<<<<<< HEAD
   "execution_count": 1,
   "metadata": {},
   "outputs": [
    {
     "ename": "SyntaxError",
     "evalue": "invalid syntax (station5.py, line 1)",
     "output_type": "error",
     "traceback": [
      "Traceback \u001b[0;36m(most recent call last)\u001b[0m:\n",
      "  File \u001b[1;32m~/opt/anaconda3/lib/python3.9/site-packages/IPython/core/interactiveshell.py:3369\u001b[0m in \u001b[1;35mrun_code\u001b[0m\n    exec(code_obj, self.user_global_ns, self.user_ns)\n",
      "\u001b[0;36m  Input \u001b[0;32mIn [1]\u001b[0;36m in \u001b[0;35m<cell line: 6>\u001b[0;36m\u001b[0m\n\u001b[0;31m    from station5 import solution_station_5\u001b[0m\n",
      "\u001b[0;36m  File \u001b[0;32m~/Desktop/robotcamp/computational-thinking-week-group-trash/challenge_day3/station5.py:1\u001b[0;36m\u001b[0m\n\u001b[0;31m    <<<<<<< HEAD\u001b[0m\n\u001b[0m    ^\u001b[0m\n\u001b[0;31mSyntaxError\u001b[0m\u001b[0;31m:\u001b[0m invalid syntax\n"
=======
   "execution_count": 4,
   "metadata": {},
   "outputs": [
    {
     "ename": "IndexError",
     "evalue": "index 0 is out of bounds for axis 0 with size 0",
     "output_type": "error",
     "traceback": [
      "\u001b[1;31m---------------------------------------------------------------------------\u001b[0m",
      "\u001b[1;31mIndexError\u001b[0m                                Traceback (most recent call last)",
      "\u001b[1;32mc:\\Users\\hielk\\Documents\\Scripts\\Sem_3\\Computational_Thinking\\CT_Group\\computational-thinking-week-group-trash\\challenge_day3\\challenge_day3.ipynb Cell 3\u001b[0m in \u001b[0;36m<cell line: 34>\u001b[1;34m()\u001b[0m\n\u001b[0;32m     <a href='vscode-notebook-cell:/c%3A/Users/hielk/Documents/Scripts/Sem_3/Computational_Thinking/CT_Group/computational-thinking-week-group-trash/challenge_day3/challenge_day3.ipynb#W2sZmlsZQ%3D%3D?line=30'>31</a>\u001b[0m     \u001b[39massert\u001b[39;00m \u001b[39misinstance\u001b[39m(output7, \u001b[39mfloat\u001b[39m)\n\u001b[0;32m     <a href='vscode-notebook-cell:/c%3A/Users/hielk/Documents/Scripts/Sem_3/Computational_Thinking/CT_Group/computational-thinking-week-group-trash/challenge_day3/challenge_day3.ipynb#W2sZmlsZQ%3D%3D?line=31'>32</a>\u001b[0m     \u001b[39mreturn\u001b[39;00m output1 \u001b[39m*\u001b[39m \u001b[39mint\u001b[39m\u001b[39m.\u001b[39mfrom_bytes(output2[\u001b[39m0\u001b[39m]\u001b[39m.\u001b[39mencode(\u001b[39m\"\u001b[39m\u001b[39municode_escape\u001b[39m\u001b[39m\"\u001b[39m), byteorder\u001b[39m=\u001b[39m\u001b[39m'\u001b[39m\u001b[39mbig\u001b[39m\u001b[39m'\u001b[39m) \u001b[39m*\u001b[39m (\u001b[39m3\u001b[39m \u001b[39mif\u001b[39;00m output3 \u001b[39melse\u001b[39;00m \u001b[39m2\u001b[39m) \u001b[39m*\u001b[39m (\u001b[39m5\u001b[39m \u001b[39mif\u001b[39;00m output4 \u001b[39melse\u001b[39;00m \u001b[39m4\u001b[39m) \u001b[39m*\u001b[39m output5 \u001b[39m*\u001b[39m output6 \u001b[39m*\u001b[39m output7\n\u001b[1;32m---> <a href='vscode-notebook-cell:/c%3A/Users/hielk/Documents/Scripts/Sem_3/Computational_Thinking/CT_Group/computational-thinking-week-group-trash/challenge_day3/challenge_day3.ipynb#W2sZmlsZQ%3D%3D?line=33'>34</a>\u001b[0m FINAL_OUTPUT1 \u001b[39m=\u001b[39m combined_algorithm(observation1)\n\u001b[0;32m     <a href='vscode-notebook-cell:/c%3A/Users/hielk/Documents/Scripts/Sem_3/Computational_Thinking/CT_Group/computational-thinking-week-group-trash/challenge_day3/challenge_day3.ipynb#W2sZmlsZQ%3D%3D?line=34'>35</a>\u001b[0m FINAL_OUTPUT2 \u001b[39m=\u001b[39m combined_algorithm(observation2)\n\u001b[0;32m     <a href='vscode-notebook-cell:/c%3A/Users/hielk/Documents/Scripts/Sem_3/Computational_Thinking/CT_Group/computational-thinking-week-group-trash/challenge_day3/challenge_day3.ipynb#W2sZmlsZQ%3D%3D?line=35'>36</a>\u001b[0m FINAL_OUTPUT3 \u001b[39m=\u001b[39m combined_algorithm(observation3)\n",
      "\u001b[1;32mc:\\Users\\hielk\\Documents\\Scripts\\Sem_3\\Computational_Thinking\\CT_Group\\computational-thinking-week-group-trash\\challenge_day3\\challenge_day3.ipynb Cell 3\u001b[0m in \u001b[0;36mcombined_algorithm\u001b[1;34m(observations)\u001b[0m\n\u001b[0;32m     <a href='vscode-notebook-cell:/c%3A/Users/hielk/Documents/Scripts/Sem_3/Computational_Thinking/CT_Group/computational-thinking-week-group-trash/challenge_day3/challenge_day3.ipynb#W2sZmlsZQ%3D%3D?line=19'>20</a>\u001b[0m output3 \u001b[39m=\u001b[39m solution_station_3(observations[\u001b[39m3\u001b[39m])\n\u001b[0;32m     <a href='vscode-notebook-cell:/c%3A/Users/hielk/Documents/Scripts/Sem_3/Computational_Thinking/CT_Group/computational-thinking-week-group-trash/challenge_day3/challenge_day3.ipynb#W2sZmlsZQ%3D%3D?line=20'>21</a>\u001b[0m output4 \u001b[39m=\u001b[39m solution_station_4(observations[\u001b[39m4\u001b[39m])\n\u001b[1;32m---> <a href='vscode-notebook-cell:/c%3A/Users/hielk/Documents/Scripts/Sem_3/Computational_Thinking/CT_Group/computational-thinking-week-group-trash/challenge_day3/challenge_day3.ipynb#W2sZmlsZQ%3D%3D?line=21'>22</a>\u001b[0m output5 \u001b[39m=\u001b[39m solution_station_5(observations[\u001b[39m5\u001b[39;49m])\n\u001b[0;32m     <a href='vscode-notebook-cell:/c%3A/Users/hielk/Documents/Scripts/Sem_3/Computational_Thinking/CT_Group/computational-thinking-week-group-trash/challenge_day3/challenge_day3.ipynb#W2sZmlsZQ%3D%3D?line=22'>23</a>\u001b[0m output6 \u001b[39m=\u001b[39m solution_station_6(observations[\u001b[39m6\u001b[39m])\n\u001b[0;32m     <a href='vscode-notebook-cell:/c%3A/Users/hielk/Documents/Scripts/Sem_3/Computational_Thinking/CT_Group/computational-thinking-week-group-trash/challenge_day3/challenge_day3.ipynb#W2sZmlsZQ%3D%3D?line=23'>24</a>\u001b[0m output7 \u001b[39m=\u001b[39m solution_station_7(observations[\u001b[39m7\u001b[39m])\n",
      "File \u001b[1;32mc:\\Users\\hielk\\Documents\\Scripts\\Sem_3\\Computational_Thinking\\CT_Group\\computational-thinking-week-group-trash\\challenge_day3\\station5.py:24\u001b[0m, in \u001b[0;36msolution_station_5\u001b[1;34m(name)\u001b[0m\n\u001b[0;32m     23\u001b[0m \u001b[39mdef\u001b[39;00m \u001b[39msolution_station_5\u001b[39m(name):\n\u001b[1;32m---> 24\u001b[0m     result \u001b[39m=\u001b[39m df[df[\u001b[39m\"\u001b[39;49m\u001b[39mname\u001b[39;49m\u001b[39m\"\u001b[39;49m] \u001b[39m==\u001b[39;49m name]\u001b[39m.\u001b[39;49miloc[\u001b[39m0\u001b[39;49m, \u001b[39m1\u001b[39;49m]\n\u001b[0;32m     25\u001b[0m     \u001b[39mreturn\u001b[39;00m result\n",
      "File \u001b[1;32mc:\\Users\\hielk\\anaconda3\\lib\\site-packages\\pandas\\core\\indexing.py:960\u001b[0m, in \u001b[0;36m_LocationIndexer.__getitem__\u001b[1;34m(self, key)\u001b[0m\n\u001b[0;32m    958\u001b[0m     key \u001b[39m=\u001b[39m \u001b[39mtuple\u001b[39m(com\u001b[39m.\u001b[39mapply_if_callable(x, \u001b[39mself\u001b[39m\u001b[39m.\u001b[39mobj) \u001b[39mfor\u001b[39;00m x \u001b[39min\u001b[39;00m key)\n\u001b[0;32m    959\u001b[0m     \u001b[39mif\u001b[39;00m \u001b[39mself\u001b[39m\u001b[39m.\u001b[39m_is_scalar_access(key):\n\u001b[1;32m--> 960\u001b[0m         \u001b[39mreturn\u001b[39;00m \u001b[39mself\u001b[39;49m\u001b[39m.\u001b[39;49mobj\u001b[39m.\u001b[39;49m_get_value(\u001b[39m*\u001b[39;49mkey, takeable\u001b[39m=\u001b[39;49m\u001b[39mself\u001b[39;49m\u001b[39m.\u001b[39;49m_takeable)\n\u001b[0;32m    961\u001b[0m     \u001b[39mreturn\u001b[39;00m \u001b[39mself\u001b[39m\u001b[39m.\u001b[39m_getitem_tuple(key)\n\u001b[0;32m    962\u001b[0m \u001b[39melse\u001b[39;00m:\n\u001b[0;32m    963\u001b[0m     \u001b[39m# we by definition only have the 0th axis\u001b[39;00m\n",
      "File \u001b[1;32mc:\\Users\\hielk\\anaconda3\\lib\\site-packages\\pandas\\core\\frame.py:3613\u001b[0m, in \u001b[0;36mDataFrame._get_value\u001b[1;34m(self, index, col, takeable)\u001b[0m\n\u001b[0;32m   3611\u001b[0m \u001b[39mif\u001b[39;00m takeable:\n\u001b[0;32m   3612\u001b[0m     series \u001b[39m=\u001b[39m \u001b[39mself\u001b[39m\u001b[39m.\u001b[39m_ixs(col, axis\u001b[39m=\u001b[39m\u001b[39m1\u001b[39m)\n\u001b[1;32m-> 3613\u001b[0m     \u001b[39mreturn\u001b[39;00m series\u001b[39m.\u001b[39;49m_values[index]\n\u001b[0;32m   3615\u001b[0m series \u001b[39m=\u001b[39m \u001b[39mself\u001b[39m\u001b[39m.\u001b[39m_get_item_cache(col)\n\u001b[0;32m   3616\u001b[0m engine \u001b[39m=\u001b[39m \u001b[39mself\u001b[39m\u001b[39m.\u001b[39mindex\u001b[39m.\u001b[39m_engine\n",
      "\u001b[1;31mIndexError\u001b[0m: index 0 is out of bounds for axis 0 with size 0"
>>>>>>> fdba41b726059f777395f21535d5e56246d56601
     ]
    }
   ],
   "source": [
    "from tests import tests\n",
    "from station1 import solution_station_1\n",
    "from station2 import solution_station_2\n",
    "from station3 import solution_station_3\n",
    "from station4 import solution_station_4\n",
    "from station5 import solution_station_5\n",
    "from station6 import solution_station_6\n",
    "from station7 import solution_station_7\n",
    "\n",
    "# List three observations of all inputs (not sample inputs) observed at the same time\n",
    "# Format: (time: str, station1_input: int, station2_input: str, station3_input: int, station4_input: int, station5_input: str, station6_input: int, station7_input: str)\n",
    "# Example: ('12:30:00', 1, '1990-01-01', 2, 3, \"John\", 4, \"e=mc^2\")\n",
    "observation1 = ('12:25:00', 65, '2024-04-28', 29049, 2904, 'Yuyue', 29, 'a*c*b')\n",
    "observation2 = ('12:25:30', 35, '2024-02-26', 44121, 4412, 'Maja', 44, 'd+b+c')\n",
    "observation3 = ('12:26:00', 67, '2024-12-03', 32704, 3207, 'Maria', 32, 'c*e*b')\n",
    "\n",
    "def combined_algorithm(observations: tuple) -> int:\n",
    "    output1 = solution_station_1(observations[1])\n",
    "    output2 = solution_station_2(observations[2])\n",
    "    output3 = solution_station_3(observations[3])\n",
    "    output4 = solution_station_4(observations[4])\n",
    "    output5 = solution_station_5(observations[5])\n",
    "    output6 = solution_station_6(observations[6])\n",
    "    output7 = solution_station_7(observations[7])\n",
    "    assert isinstance(output1, int)\n",
    "    assert isinstance(output2, str)\n",
    "    assert isinstance(output3, bool)\n",
    "    assert isinstance(output4, bool)\n",
    "    assert isinstance(output5, int)\n",
    "    assert isinstance(output6, float)\n",
    "    assert isinstance(output7, float)\n",
    "    return output1 * int.from_bytes(output2[0].encode(\"unicode_escape\"), byteorder='big') * (3 if output3 else 2) * (5 if output4 else 4) * output5 * output6 * output7\n",
    "\n",
    "FINAL_OUTPUT1 = combined_algorithm(observation1)\n",
    "FINAL_OUTPUT2 = combined_algorithm(observation2)\n",
    "FINAL_OUTPUT3 = combined_algorithm(observation3)\n",
    "tests.Test_Exercise(combined_algorithm);"
   ]
  },
  {
   "cell_type": "code",
   "execution_count": null,
   "metadata": {},
   "outputs": [],
   "source": []
  }
 ],
 "metadata": {
  "kernelspec": {
   "display_name": "Python 3 (ipykernel)",
   "language": "python",
   "name": "python3"
  },
  "language_info": {
   "codemirror_mode": {
    "name": "ipython",
    "version": 3
   },
   "file_extension": ".py",
   "mimetype": "text/x-python",
   "name": "python",
   "nbconvert_exporter": "python",
   "pygments_lexer": "ipython3",
   "version": "3.9.12"
  },
  "vscode": {
   "interpreter": {
    "hash": "2f9d6cf1e3d8195079a65c851de355134a77367bcd714b1a5d498c42d3c07114"
   }
  }
 },
 "nbformat": 4,
 "nbformat_minor": 4
}
